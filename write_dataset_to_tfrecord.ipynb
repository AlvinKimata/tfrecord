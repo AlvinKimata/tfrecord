{
 "cells": [
  {
   "attachments": {},
   "cell_type": "markdown",
   "metadata": {},
   "source": [
    "### Write the TEDLIUM dataset to `tfrecord` file format.\n",
    "***"
   ]
  },
  {
   "cell_type": "code",
   "execution_count": 1,
   "metadata": {},
   "outputs": [],
   "source": [
    "import re\n",
    "import os\n",
    "import glob\n",
    "import numpy as np\n",
    "import pandas as pd\n",
    "from tqdm import tqdm\n",
    "from etils import epath\n",
    "import tensorflow as tf\n",
    "import tensorflow_datasets as tfds\n",
    "\n",
    "import torch\n",
    "import torchaudio\n",
    "import torch.utils.data as data\n",
    "from torch.utils.data import Dataset, DataLoader"
   ]
  },
  {
   "attachments": {},
   "cell_type": "markdown",
   "metadata": {},
   "source": [
    "### 2. Data preparation."
   ]
  },
  {
   "cell_type": "code",
   "execution_count": 2,
   "metadata": {},
   "outputs": [],
   "source": [
    "train_dataset = torchaudio.datasets.TEDLIUM(root = './', download=False, subset='train')\n",
    "test_dataset = torchaudio.datasets.TEDLIUM(root = './', download=False, subset='test')\n",
    "dev_dataset = torchaudio.datasets.TEDLIUM(root = './', download=False, subset='dev')"
   ]
  },
  {
   "cell_type": "code",
   "execution_count": 3,
   "metadata": {},
   "outputs": [],
   "source": [
    "train_dataloader = data.DataLoader(dataset=train_dataset)\n",
    "test_dataloader = data.DataLoader(dataset = test_dataset)\n",
    "dev_dataloader = data.DataLoader(dataset = dev_dataset)"
   ]
  },
  {
   "cell_type": "code",
   "execution_count": 4,
   "metadata": {},
   "outputs": [
    {
     "name": "stdout",
     "output_type": "stream",
     "text": [
      "The vocabulary is: ['[UNK]', \"'\", 'a', 'b', 'c', 'd', 'e', 'f', 'g', 'h', 'i', 'j', 'k', 'l', 'm', 'n', 'o', 'p', 'q', 'r', 's', 't', 'u', 'v', 'w', 'x', 'y', 'z', '|', '[PAD]'] (size =30)\n"
     ]
    }
   ],
   "source": [
    "def clean_text_label(example):\n",
    "    chars_to_ignore_regex = '[\\,\\?\\.\\!\\-\\;\\:\\\"]'\n",
    "    cleaned_text = re.sub(chars_to_ignore_regex, '', example).lower()\n",
    "    return cleaned_text\n",
    "\n",
    "\n",
    "vocab_dict = {' ': 21, \"'\": 13, 'a': 24, 'b': 17,'c': 25,'d': 2,'e': 9,'f': 14,'g': 22,'h': 8,\n",
    "              'i': 4,'j': 18,'k': 5,'l': 16,'m': 6,'n': 7,'o': 10,'p': 19,'q': 3,'r': 20,'s': 11,\n",
    "              't': 0,'u': 26,'v': 27,'w': 1,'x': 23,'y': 15,'z': 12}\n",
    "vocab_dict[\"|\"] = vocab_dict[\" \"]\n",
    "del vocab_dict[\" \"]\n",
    "\n",
    "vocab_dict[\"[PAD]\"] = len(vocab_dict)\n",
    "\n",
    "\n",
    "# Mapping characters to integers\n",
    "char_to_num = tf.keras.layers.StringLookup(vocabulary=list(vocab_dict.keys()))\n",
    "# Mapping integers back to original characters\n",
    "num_to_char = tf.keras.layers.StringLookup(\n",
    "    vocabulary=char_to_num.get_vocabulary(), invert=True\n",
    ")\n",
    "\n",
    "print(\n",
    "    f\"The vocabulary is: {char_to_num.get_vocabulary()} \"\n",
    "    f\"(size ={char_to_num.vocabulary_size()})\"\n",
    ")"
   ]
  },
  {
   "cell_type": "code",
   "execution_count": 5,
   "metadata": {},
   "outputs": [],
   "source": [
    "def extract_audio_segment(sph_path, channel, start_sec, end_sec):\n",
    "    \"\"\"Extracts segment of audio samples (as an ndarray) from the given path.\"\"\"\n",
    "    with tf.io.gfile.GFile(sph_path, \"rb\") as f:\n",
    "        try:\n",
    "            segment = tfds.core.lazy_imports.pydub.AudioSegment.from_file(f, format=\"nistsphere\")\n",
    "        except tfds.core.lazy_imports.pydub.exceptions.CouldntDecodeError:\n",
    "            raise ValueError(f\"Unable to decode audio file: {sph_path}\")\n",
    "        \n",
    "    # The dataset only contains mono audio.\n",
    "    assert segment.channels == 1\n",
    "    assert channel == 1\n",
    "    start_ms = int(start_sec * 1000)\n",
    "    end_ms = int(end_sec * 1000)\n",
    "    segment = segment[start_ms:end_ms]\n",
    "    samples = np.array(segment.get_array_of_samples())\n",
    "    return samples"
   ]
  },
  {
   "cell_type": "code",
   "execution_count": 6,
   "metadata": {},
   "outputs": [],
   "source": [
    "def maybe_trim_suffix(transcript):\n",
    "    # stm files for the TEDLIUM release 1 train split contain a key (enclosed in\n",
    "    # parens) at the end.\n",
    "    splits = transcript.rsplit(\" \", 1)\n",
    "    transcript = splits[0]\n",
    "    if len(splits) > 1:\n",
    "        suffix = splits[-1]\n",
    "        if not suffix.startswith(\"(\"):\n",
    "            transcript += \" \" + suffix\n",
    "    return transcript"
   ]
  },
  {
   "cell_type": "code",
   "execution_count": 13,
   "metadata": {},
   "outputs": [],
   "source": [
    "def generate_examples_from_stm_file(stm_path):\n",
    "    for path in stm_path:\n",
    "        \"\"\"Generate examples from a TED-LIUM stm file.\"\"\"\n",
    "        stm_dir = os.path.dirname(path.decode())\n",
    "        sph_dir = os.path.join(os.path.dirname(stm_dir), \"sph\")\n",
    "        with epath.Path(path.decode()).open() as f:\n",
    "            for line in f:\n",
    "                line = line.strip()\n",
    "                fn, channel, speaker, start, end, label, transcript = line.split(\" \", 6)\n",
    "                transcript_trimmed = maybe_trim_suffix(transcript)\n",
    "                transcript_cleaned = clean_text_label(transcript_trimmed)\n",
    "                transcript_int = tf.strings.unicode_split(transcript_cleaned, input_encoding=\"UTF-8\")\n",
    "                transcript_int = char_to_num(transcript_int)\n",
    "\n",
    "                audio_file = \"%s.sph\" % fn\n",
    "                samples = extract_audio_segment(\n",
    "                  os.path.join(sph_dir, audio_file),\n",
    "                  int(channel),\n",
    "                  float(start),\n",
    "                  float(end))\n",
    "\n",
    "                key = \"-\".join([speaker, start, end, label])\n",
    "                example = {\"speech\": samples, \"text\": transcript_int}\n",
    "\n",
    "                # yield example\n",
    "                yield tf.constant(example[\"speech\"], dtype=tf.float32), tf.constant(example[\"text\"], dtype = tf.int16)"
   ]
  },
  {
   "cell_type": "code",
   "execution_count": 14,
   "metadata": {},
   "outputs": [],
   "source": [
    "# An integer scalar Tensor. The window length in samples.\n",
    "frame_length = 256\n",
    "# An integer scalar Tensor. The number of samples to step.\n",
    "frame_step = 160\n",
    "# An integer scalar Tensor. The size of the FFT to apply.\n",
    "# If not provided, uses the smallest power of 2 enclosing frame_length.\n",
    "fft_length = 384\n",
    "\n",
    "def encode_single_file(speech, transcript):\n",
    "  #Change type to float.\n",
    "    audio = tf.cast(speech, tf.float32)\n",
    "    #Get the spectrogram.\n",
    "    spectrogram = tf.signal.stft(\n",
    "        audio, frame_length=frame_length, frame_step=frame_step, fft_length=fft_length)\n",
    "    #We only need the magnitude, which can be derived by applying tf.abs\n",
    "    spectrogram = tf.abs(spectrogram)\n",
    "    spectrogram = tf.math.pow(spectrogram, 0.5)\n",
    "    #normalisation\n",
    "    means = tf.math.reduce_mean(spectrogram, 1, keepdims=True)\n",
    "    stddevs = tf.math.reduce_std(spectrogram, 1, keepdims=True)\n",
    "    spectrogram = (spectrogram - means) / (stddevs + 1e-10)\n",
    "    \n",
    "    #Process the label.\n",
    "    label = tf.cast(transcript, tf.int64)\n",
    "    return spectrogram, label"
   ]
  },
  {
   "cell_type": "code",
   "execution_count": 15,
   "metadata": {},
   "outputs": [],
   "source": [
    "train_path = glob.glob(r'TEDLIUM_release1\\train\\stm\\*.stm')\n",
    "test_path = glob.glob(r'TEDLIUM_release1\\test\\stm\\*.stm')\n",
    "dev_path = glob.glob(r'TEDLIUM_release1\\dev\\stm\\*.stm')\n",
    "BATCH_SIZE = 32\n",
    "\n",
    "output_signature = (\n",
    "    tf.TensorSpec(shape=(None, ), dtype=tf.float32),\n",
    "    tf.TensorSpec(shape = (None,), dtype = tf.int64)\n",
    ")\n",
    "\n",
    "train_dataset = tf.data.Dataset.from_tensor_slices(train_path)\n",
    "train_dataset = train_dataset.from_generator(generate_examples_from_stm_file, args = [train_path], output_signature = output_signature)\n",
    "train_dataset = train_dataset.map(encode_single_file, num_parallel_calls=tf.data.AUTOTUNE).prefetch(buffer_size=tf.data.AUTOTUNE)\n",
    "\n",
    "    \n",
    "\n",
    "test_dataset = tf.data.Dataset.from_tensor_slices(test_path)\n",
    "test_dataset = test_dataset.from_generator(generate_examples_from_stm_file, args = [test_path], output_signature = output_signature)\n",
    "test_dataset = test_dataset.map(encode_single_file, num_parallel_calls=tf.data.AUTOTUNE).prefetch(buffer_size=tf.data.AUTOTUNE)\n",
    "\n",
    "\n",
    "\n",
    "dev_dataset = tf.data.Dataset.from_tensor_slices(dev_path)\n",
    "dev_dataset = dev_dataset.from_generator(generate_examples_from_stm_file, args = [dev_path], output_signature = output_signature)\n",
    "dev_dataset = dev_dataset.map(encode_single_file, num_parallel_calls=tf.data.AUTOTUNE).prefetch(buffer_size=tf.data.AUTOTUNE)"
   ]
  },
  {
   "cell_type": "code",
   "execution_count": 17,
   "metadata": {},
   "outputs": [
    {
     "name": "stdout",
     "output_type": "stream",
     "text": [
      "(<tf.Tensor: shape=(1303, 193), dtype=float32, numpy=\n",
      "array([[ 0.        ,  0.        ,  0.        , ...,  0.        ,\n",
      "         0.        ,  0.        ],\n",
      "       [ 0.        ,  0.        ,  0.        , ...,  0.        ,\n",
      "         0.        ,  0.        ],\n",
      "       [ 0.        ,  0.        ,  0.        , ...,  0.        ,\n",
      "         0.        ,  0.        ],\n",
      "       ...,\n",
      "       [ 0.43976876,  0.4531574 ,  0.18518394, ..., -1.6504657 ,\n",
      "        -1.6816988 , -1.6921215 ],\n",
      "       [ 0.61534095,  0.4983179 ,  0.17270204, ..., -1.7313682 ,\n",
      "        -1.698178  , -1.6994416 ],\n",
      "       [-0.06142621, -0.27352673, -0.37003124, ..., -1.5455304 ,\n",
      "        -1.5731868 , -1.5923746 ]], dtype=float32)>, <tf.Tensor: shape=(30,), dtype=int64, numpy=\n",
      "array([10,  8, 15, 16, 19,  6,  0, 21, 10, 14,  6,  0, 20,  6,  8, 14,  6,\n",
      "       15, 21,  0, 10, 15,  0, 20,  4, 16, 19, 10, 15,  8], dtype=int64)>)\n",
      "(<tf.Tensor: shape=(1303, 193), dtype=float32, numpy=\n",
      "array([[ 0.        ,  0.        ,  0.        , ...,  0.        ,\n",
      "         0.        ,  0.        ],\n",
      "       [ 0.        ,  0.        ,  0.        , ...,  0.        ,\n",
      "         0.        ,  0.        ],\n",
      "       [ 0.        ,  0.        ,  0.        , ...,  0.        ,\n",
      "         0.        ,  0.        ],\n",
      "       ...,\n",
      "       [ 0.43976876,  0.4531574 ,  0.18518394, ..., -1.6504657 ,\n",
      "        -1.6816988 , -1.6921215 ],\n",
      "       [ 0.61534095,  0.4983179 ,  0.17270204, ..., -1.7313682 ,\n",
      "        -1.698178  , -1.6994416 ],\n",
      "       [-0.06142621, -0.27352673, -0.37003124, ..., -1.5455304 ,\n",
      "        -1.5731868 , -1.5923746 ]], dtype=float32)>, <tf.Tensor: shape=(30,), dtype=int64, numpy=\n",
      "array([10,  8, 15, 16, 19,  6,  0, 21, 10, 14,  6,  0, 20,  6,  8, 14,  6,\n",
      "       15, 21,  0, 10, 15,  0, 20,  4, 16, 19, 10, 15,  8], dtype=int64)>)\n",
      "(<tf.Tensor: shape=(1303, 193), dtype=float32, numpy=\n",
      "array([[ 0.        ,  0.        ,  0.        , ...,  0.        ,\n",
      "         0.        ,  0.        ],\n",
      "       [ 0.        ,  0.        ,  0.        , ...,  0.        ,\n",
      "         0.        ,  0.        ],\n",
      "       [ 0.        ,  0.        ,  0.        , ...,  0.        ,\n",
      "         0.        ,  0.        ],\n",
      "       ...,\n",
      "       [ 0.43976876,  0.4531574 ,  0.18518394, ..., -1.6504657 ,\n",
      "        -1.6816988 , -1.6921215 ],\n",
      "       [ 0.61534095,  0.4983179 ,  0.17270204, ..., -1.7313682 ,\n",
      "        -1.698178  , -1.6994416 ],\n",
      "       [-0.06142621, -0.27352673, -0.37003124, ..., -1.5455304 ,\n",
      "        -1.5731868 , -1.5923746 ]], dtype=float32)>, <tf.Tensor: shape=(30,), dtype=int64, numpy=\n",
      "array([10,  8, 15, 16, 19,  6,  0, 21, 10, 14,  6,  0, 20,  6,  8, 14,  6,\n",
      "       15, 21,  0, 10, 15,  0, 20,  4, 16, 19, 10, 15,  8], dtype=int64)>)\n",
      "(<tf.Tensor: shape=(1303, 193), dtype=float32, numpy=\n",
      "array([[ 0.        ,  0.        ,  0.        , ...,  0.        ,\n",
      "         0.        ,  0.        ],\n",
      "       [ 0.        ,  0.        ,  0.        , ...,  0.        ,\n",
      "         0.        ,  0.        ],\n",
      "       [ 0.        ,  0.        ,  0.        , ...,  0.        ,\n",
      "         0.        ,  0.        ],\n",
      "       ...,\n",
      "       [ 0.43976876,  0.4531574 ,  0.18518394, ..., -1.6504657 ,\n",
      "        -1.6816988 , -1.6921215 ],\n",
      "       [ 0.61534095,  0.4983179 ,  0.17270204, ..., -1.7313682 ,\n",
      "        -1.698178  , -1.6994416 ],\n",
      "       [-0.06142621, -0.27352673, -0.37003124, ..., -1.5455304 ,\n",
      "        -1.5731868 , -1.5923746 ]], dtype=float32)>, <tf.Tensor: shape=(30,), dtype=int64, numpy=\n",
      "array([10,  8, 15, 16, 19,  6,  0, 21, 10, 14,  6,  0, 20,  6,  8, 14,  6,\n",
      "       15, 21,  0, 10, 15,  0, 20,  4, 16, 19, 10, 15,  8], dtype=int64)>)\n"
     ]
    },
    {
     "ename": "RuntimeError",
     "evalue": "pybind11::error_already_set: MISMATCH of original and normalized active exception types: ORIGINAL _NotOkStatusException REPLACED BY KeyboardInterrupt: <EMPTY MESSAGE>\n\nAt:\n  c:\\Users\\debonair\\anaconda3\\lib\\site-packages\\tensorflow\\python\\eager\\core.py(36): __init__\n  c:\\Users\\debonair\\anaconda3\\lib\\site-packages\\tensorflow\\python\\ops\\gen_dataset_ops.py(3038): iterator_get_next\n  c:\\Users\\debonair\\anaconda3\\lib\\site-packages\\tensorflow\\python\\data\\ops\\iterator_ops.py(780): _next_internal\n  c:\\Users\\debonair\\anaconda3\\lib\\site-packages\\tensorflow\\python\\data\\ops\\iterator_ops.py(797): __next__\n  <magic-timeit>(1): inner\n  c:\\Users\\debonair\\anaconda3\\lib\\site-packages\\IPython\\core\\magics\\execution.py(169): timeit\n  c:\\Users\\debonair\\anaconda3\\lib\\timeit.py(205): repeat\n  c:\\Users\\debonair\\anaconda3\\lib\\site-packages\\IPython\\core\\magics\\execution.py(1184): timeit\n  c:\\Users\\debonair\\anaconda3\\lib\\site-packages\\IPython\\core\\magic.py(187): <lambda>\n  c:\\Users\\debonair\\anaconda3\\lib\\site-packages\\decorator.py(232): fun\n  c:\\Users\\debonair\\anaconda3\\lib\\site-packages\\IPython\\core\\interactiveshell.py(2419): run_cell_magic\n  C:\\Users\\debonair\\AppData\\Local\\Temp\\ipykernel_32248\\99719596.py(1): <module>\n  c:\\Users\\debonair\\anaconda3\\lib\\site-packages\\IPython\\core\\interactiveshell.py(3457): run_code\n  c:\\Users\\debonair\\anaconda3\\lib\\site-packages\\IPython\\core\\interactiveshell.py(3377): run_ast_nodes\n  c:\\Users\\debonair\\anaconda3\\lib\\site-packages\\IPython\\core\\interactiveshell.py(3185): run_cell_async\n  c:\\Users\\debonair\\anaconda3\\lib\\site-packages\\IPython\\core\\async_helpers.py(78): _pseudo_sync_runner\n  c:\\Users\\debonair\\anaconda3\\lib\\site-packages\\IPython\\core\\interactiveshell.py(2960): _run_cell\n  c:\\Users\\debonair\\anaconda3\\lib\\site-packages\\IPython\\core\\interactiveshell.py(2914): run_cell\n  c:\\Users\\debonair\\anaconda3\\lib\\site-packages\\ipykernel\\zmqshell.py(528): run_cell\n  c:\\Users\\debonair\\anaconda3\\lib\\site-packages\\ipykernel\\ipkernel.py(390): do_execute\n  c:\\Users\\debonair\\anaconda3\\lib\\site-packages\\ipykernel\\kernelbase.py(730): execute_request\n  c:\\Users\\debonair\\anaconda3\\lib\\site-packages\\ipykernel\\kernelbase.py(406): dispatch_shell\n  c:\\Users\\debonair\\anaconda3\\lib\\site-packages\\ipykernel\\kernelbase.py(499): process_one\n  c:\\Users\\debonair\\anaconda3\\lib\\site-packages\\ipykernel\\kernelbase.py(510): dispatch_queue\n  c:\\Users\\debonair\\anaconda3\\lib\\asyncio\\events.py(80): _run\n  c:\\Users\\debonair\\anaconda3\\lib\\asyncio\\base_events.py(1905): _run_once\n  c:\\Users\\debonair\\anaconda3\\lib\\asyncio\\base_events.py(601): run_forever\n  c:\\Users\\debonair\\anaconda3\\lib\\site-packages\\tornado\\platform\\asyncio.py(199): start\n  c:\\Users\\debonair\\anaconda3\\lib\\site-packages\\ipykernel\\kernelapp.py(712): start\n  c:\\Users\\debonair\\anaconda3\\lib\\site-packages\\traitlets\\config\\application.py(846): launch_instance\n  c:\\Users\\debonair\\anaconda3\\lib\\site-packages\\ipykernel_launcher.py(17): <module>\n  c:\\Users\\debonair\\anaconda3\\lib\\runpy.py(87): _run_code\n  c:\\Users\\debonair\\anaconda3\\lib\\runpy.py(197): _run_module_as_main\n",
     "output_type": "error",
     "traceback": [
      "\u001b[1;31m---------------------------------------------------------------------------\u001b[0m",
      "\u001b[1;31mRuntimeError\u001b[0m                              Traceback (most recent call last)",
      "\u001b[1;32m~\\AppData\\Local\\Temp\\ipykernel_32248\\99719596.py\u001b[0m in \u001b[0;36m<module>\u001b[1;34m\u001b[0m\n\u001b[1;32m----> 1\u001b[1;33m \u001b[0mget_ipython\u001b[0m\u001b[1;33m(\u001b[0m\u001b[1;33m)\u001b[0m\u001b[1;33m.\u001b[0m\u001b[0mrun_cell_magic\u001b[0m\u001b[1;33m(\u001b[0m\u001b[1;34m'timeit'\u001b[0m\u001b[1;33m,\u001b[0m \u001b[1;34m''\u001b[0m\u001b[1;33m,\u001b[0m \u001b[1;34m'for element in dev_dataset.take(1):\\n    continue\\n\\nprint(element)\\n'\u001b[0m\u001b[1;33m)\u001b[0m\u001b[1;33m\u001b[0m\u001b[1;33m\u001b[0m\u001b[0m\n\u001b[0m",
      "\u001b[1;32mc:\\Users\\debonair\\anaconda3\\lib\\site-packages\\IPython\\core\\interactiveshell.py\u001b[0m in \u001b[0;36mrun_cell_magic\u001b[1;34m(self, magic_name, line, cell)\u001b[0m\n\u001b[0;32m   2417\u001b[0m             \u001b[1;32mwith\u001b[0m \u001b[0mself\u001b[0m\u001b[1;33m.\u001b[0m\u001b[0mbuiltin_trap\u001b[0m\u001b[1;33m:\u001b[0m\u001b[1;33m\u001b[0m\u001b[1;33m\u001b[0m\u001b[0m\n\u001b[0;32m   2418\u001b[0m                 \u001b[0margs\u001b[0m \u001b[1;33m=\u001b[0m \u001b[1;33m(\u001b[0m\u001b[0mmagic_arg_s\u001b[0m\u001b[1;33m,\u001b[0m \u001b[0mcell\u001b[0m\u001b[1;33m)\u001b[0m\u001b[1;33m\u001b[0m\u001b[1;33m\u001b[0m\u001b[0m\n\u001b[1;32m-> 2419\u001b[1;33m                 \u001b[0mresult\u001b[0m \u001b[1;33m=\u001b[0m \u001b[0mfn\u001b[0m\u001b[1;33m(\u001b[0m\u001b[1;33m*\u001b[0m\u001b[0margs\u001b[0m\u001b[1;33m,\u001b[0m \u001b[1;33m**\u001b[0m\u001b[0mkwargs\u001b[0m\u001b[1;33m)\u001b[0m\u001b[1;33m\u001b[0m\u001b[1;33m\u001b[0m\u001b[0m\n\u001b[0m\u001b[0;32m   2420\u001b[0m             \u001b[1;32mreturn\u001b[0m \u001b[0mresult\u001b[0m\u001b[1;33m\u001b[0m\u001b[1;33m\u001b[0m\u001b[0m\n\u001b[0;32m   2421\u001b[0m \u001b[1;33m\u001b[0m\u001b[0m\n",
      "\u001b[1;32mc:\\Users\\debonair\\anaconda3\\lib\\site-packages\\decorator.py\u001b[0m in \u001b[0;36mfun\u001b[1;34m(*args, **kw)\u001b[0m\n\u001b[0;32m    230\u001b[0m             \u001b[1;32mif\u001b[0m \u001b[1;32mnot\u001b[0m \u001b[0mkwsyntax\u001b[0m\u001b[1;33m:\u001b[0m\u001b[1;33m\u001b[0m\u001b[1;33m\u001b[0m\u001b[0m\n\u001b[0;32m    231\u001b[0m                 \u001b[0margs\u001b[0m\u001b[1;33m,\u001b[0m \u001b[0mkw\u001b[0m \u001b[1;33m=\u001b[0m \u001b[0mfix\u001b[0m\u001b[1;33m(\u001b[0m\u001b[0margs\u001b[0m\u001b[1;33m,\u001b[0m \u001b[0mkw\u001b[0m\u001b[1;33m,\u001b[0m \u001b[0msig\u001b[0m\u001b[1;33m)\u001b[0m\u001b[1;33m\u001b[0m\u001b[1;33m\u001b[0m\u001b[0m\n\u001b[1;32m--> 232\u001b[1;33m             \u001b[1;32mreturn\u001b[0m \u001b[0mcaller\u001b[0m\u001b[1;33m(\u001b[0m\u001b[0mfunc\u001b[0m\u001b[1;33m,\u001b[0m \u001b[1;33m*\u001b[0m\u001b[1;33m(\u001b[0m\u001b[0mextras\u001b[0m \u001b[1;33m+\u001b[0m \u001b[0margs\u001b[0m\u001b[1;33m)\u001b[0m\u001b[1;33m,\u001b[0m \u001b[1;33m**\u001b[0m\u001b[0mkw\u001b[0m\u001b[1;33m)\u001b[0m\u001b[1;33m\u001b[0m\u001b[1;33m\u001b[0m\u001b[0m\n\u001b[0m\u001b[0;32m    233\u001b[0m     \u001b[0mfun\u001b[0m\u001b[1;33m.\u001b[0m\u001b[0m__name__\u001b[0m \u001b[1;33m=\u001b[0m \u001b[0mfunc\u001b[0m\u001b[1;33m.\u001b[0m\u001b[0m__name__\u001b[0m\u001b[1;33m\u001b[0m\u001b[1;33m\u001b[0m\u001b[0m\n\u001b[0;32m    234\u001b[0m     \u001b[0mfun\u001b[0m\u001b[1;33m.\u001b[0m\u001b[0m__doc__\u001b[0m \u001b[1;33m=\u001b[0m \u001b[0mfunc\u001b[0m\u001b[1;33m.\u001b[0m\u001b[0m__doc__\u001b[0m\u001b[1;33m\u001b[0m\u001b[1;33m\u001b[0m\u001b[0m\n",
      "\u001b[1;32mc:\\Users\\debonair\\anaconda3\\lib\\site-packages\\IPython\\core\\magic.py\u001b[0m in \u001b[0;36m<lambda>\u001b[1;34m(f, *a, **k)\u001b[0m\n\u001b[0;32m    185\u001b[0m     \u001b[1;31m# but it's overkill for just that one bit of state.\u001b[0m\u001b[1;33m\u001b[0m\u001b[1;33m\u001b[0m\u001b[0m\n\u001b[0;32m    186\u001b[0m     \u001b[1;32mdef\u001b[0m \u001b[0mmagic_deco\u001b[0m\u001b[1;33m(\u001b[0m\u001b[0marg\u001b[0m\u001b[1;33m)\u001b[0m\u001b[1;33m:\u001b[0m\u001b[1;33m\u001b[0m\u001b[1;33m\u001b[0m\u001b[0m\n\u001b[1;32m--> 187\u001b[1;33m         \u001b[0mcall\u001b[0m \u001b[1;33m=\u001b[0m \u001b[1;32mlambda\u001b[0m \u001b[0mf\u001b[0m\u001b[1;33m,\u001b[0m \u001b[1;33m*\u001b[0m\u001b[0ma\u001b[0m\u001b[1;33m,\u001b[0m \u001b[1;33m**\u001b[0m\u001b[0mk\u001b[0m\u001b[1;33m:\u001b[0m \u001b[0mf\u001b[0m\u001b[1;33m(\u001b[0m\u001b[1;33m*\u001b[0m\u001b[0ma\u001b[0m\u001b[1;33m,\u001b[0m \u001b[1;33m**\u001b[0m\u001b[0mk\u001b[0m\u001b[1;33m)\u001b[0m\u001b[1;33m\u001b[0m\u001b[1;33m\u001b[0m\u001b[0m\n\u001b[0m\u001b[0;32m    188\u001b[0m \u001b[1;33m\u001b[0m\u001b[0m\n\u001b[0;32m    189\u001b[0m         \u001b[1;32mif\u001b[0m \u001b[0mcallable\u001b[0m\u001b[1;33m(\u001b[0m\u001b[0marg\u001b[0m\u001b[1;33m)\u001b[0m\u001b[1;33m:\u001b[0m\u001b[1;33m\u001b[0m\u001b[1;33m\u001b[0m\u001b[0m\n",
      "\u001b[1;32mc:\\Users\\debonair\\anaconda3\\lib\\site-packages\\IPython\\core\\magics\\execution.py\u001b[0m in \u001b[0;36mtimeit\u001b[1;34m(self, line, cell, local_ns)\u001b[0m\n\u001b[0;32m   1182\u001b[0m                     \u001b[1;32mbreak\u001b[0m\u001b[1;33m\u001b[0m\u001b[1;33m\u001b[0m\u001b[0m\n\u001b[0;32m   1183\u001b[0m \u001b[1;33m\u001b[0m\u001b[0m\n\u001b[1;32m-> 1184\u001b[1;33m         \u001b[0mall_runs\u001b[0m \u001b[1;33m=\u001b[0m \u001b[0mtimer\u001b[0m\u001b[1;33m.\u001b[0m\u001b[0mrepeat\u001b[0m\u001b[1;33m(\u001b[0m\u001b[0mrepeat\u001b[0m\u001b[1;33m,\u001b[0m \u001b[0mnumber\u001b[0m\u001b[1;33m)\u001b[0m\u001b[1;33m\u001b[0m\u001b[1;33m\u001b[0m\u001b[0m\n\u001b[0m\u001b[0;32m   1185\u001b[0m         \u001b[0mbest\u001b[0m \u001b[1;33m=\u001b[0m \u001b[0mmin\u001b[0m\u001b[1;33m(\u001b[0m\u001b[0mall_runs\u001b[0m\u001b[1;33m)\u001b[0m \u001b[1;33m/\u001b[0m \u001b[0mnumber\u001b[0m\u001b[1;33m\u001b[0m\u001b[1;33m\u001b[0m\u001b[0m\n\u001b[0;32m   1186\u001b[0m         \u001b[0mworst\u001b[0m \u001b[1;33m=\u001b[0m \u001b[0mmax\u001b[0m\u001b[1;33m(\u001b[0m\u001b[0mall_runs\u001b[0m\u001b[1;33m)\u001b[0m \u001b[1;33m/\u001b[0m \u001b[0mnumber\u001b[0m\u001b[1;33m\u001b[0m\u001b[1;33m\u001b[0m\u001b[0m\n",
      "\u001b[1;32mc:\\Users\\debonair\\anaconda3\\lib\\timeit.py\u001b[0m in \u001b[0;36mrepeat\u001b[1;34m(self, repeat, number)\u001b[0m\n\u001b[0;32m    203\u001b[0m         \u001b[0mr\u001b[0m \u001b[1;33m=\u001b[0m \u001b[1;33m[\u001b[0m\u001b[1;33m]\u001b[0m\u001b[1;33m\u001b[0m\u001b[1;33m\u001b[0m\u001b[0m\n\u001b[0;32m    204\u001b[0m         \u001b[1;32mfor\u001b[0m \u001b[0mi\u001b[0m \u001b[1;32min\u001b[0m \u001b[0mrange\u001b[0m\u001b[1;33m(\u001b[0m\u001b[0mrepeat\u001b[0m\u001b[1;33m)\u001b[0m\u001b[1;33m:\u001b[0m\u001b[1;33m\u001b[0m\u001b[1;33m\u001b[0m\u001b[0m\n\u001b[1;32m--> 205\u001b[1;33m             \u001b[0mt\u001b[0m \u001b[1;33m=\u001b[0m \u001b[0mself\u001b[0m\u001b[1;33m.\u001b[0m\u001b[0mtimeit\u001b[0m\u001b[1;33m(\u001b[0m\u001b[0mnumber\u001b[0m\u001b[1;33m)\u001b[0m\u001b[1;33m\u001b[0m\u001b[1;33m\u001b[0m\u001b[0m\n\u001b[0m\u001b[0;32m    206\u001b[0m             \u001b[0mr\u001b[0m\u001b[1;33m.\u001b[0m\u001b[0mappend\u001b[0m\u001b[1;33m(\u001b[0m\u001b[0mt\u001b[0m\u001b[1;33m)\u001b[0m\u001b[1;33m\u001b[0m\u001b[1;33m\u001b[0m\u001b[0m\n\u001b[0;32m    207\u001b[0m         \u001b[1;32mreturn\u001b[0m \u001b[0mr\u001b[0m\u001b[1;33m\u001b[0m\u001b[1;33m\u001b[0m\u001b[0m\n",
      "\u001b[1;32mc:\\Users\\debonair\\anaconda3\\lib\\site-packages\\IPython\\core\\magics\\execution.py\u001b[0m in \u001b[0;36mtimeit\u001b[1;34m(self, number)\u001b[0m\n\u001b[0;32m    167\u001b[0m         \u001b[0mgc\u001b[0m\u001b[1;33m.\u001b[0m\u001b[0mdisable\u001b[0m\u001b[1;33m(\u001b[0m\u001b[1;33m)\u001b[0m\u001b[1;33m\u001b[0m\u001b[1;33m\u001b[0m\u001b[0m\n\u001b[0;32m    168\u001b[0m         \u001b[1;32mtry\u001b[0m\u001b[1;33m:\u001b[0m\u001b[1;33m\u001b[0m\u001b[1;33m\u001b[0m\u001b[0m\n\u001b[1;32m--> 169\u001b[1;33m             \u001b[0mtiming\u001b[0m \u001b[1;33m=\u001b[0m \u001b[0mself\u001b[0m\u001b[1;33m.\u001b[0m\u001b[0minner\u001b[0m\u001b[1;33m(\u001b[0m\u001b[0mit\u001b[0m\u001b[1;33m,\u001b[0m \u001b[0mself\u001b[0m\u001b[1;33m.\u001b[0m\u001b[0mtimer\u001b[0m\u001b[1;33m)\u001b[0m\u001b[1;33m\u001b[0m\u001b[1;33m\u001b[0m\u001b[0m\n\u001b[0m\u001b[0;32m    170\u001b[0m         \u001b[1;32mfinally\u001b[0m\u001b[1;33m:\u001b[0m\u001b[1;33m\u001b[0m\u001b[1;33m\u001b[0m\u001b[0m\n\u001b[0;32m    171\u001b[0m             \u001b[1;32mif\u001b[0m \u001b[0mgcold\u001b[0m\u001b[1;33m:\u001b[0m\u001b[1;33m\u001b[0m\u001b[1;33m\u001b[0m\u001b[0m\n",
      "\u001b[1;32m<magic-timeit>\u001b[0m in \u001b[0;36minner\u001b[1;34m(_it, _timer)\u001b[0m\n",
      "\u001b[1;32mc:\\Users\\debonair\\anaconda3\\lib\\site-packages\\tensorflow\\python\\data\\ops\\iterator_ops.py\u001b[0m in \u001b[0;36m__next__\u001b[1;34m(self)\u001b[0m\n\u001b[0;32m    795\u001b[0m   \u001b[1;32mdef\u001b[0m \u001b[0m__next__\u001b[0m\u001b[1;33m(\u001b[0m\u001b[0mself\u001b[0m\u001b[1;33m)\u001b[0m\u001b[1;33m:\u001b[0m\u001b[1;33m\u001b[0m\u001b[1;33m\u001b[0m\u001b[0m\n\u001b[0;32m    796\u001b[0m     \u001b[1;32mtry\u001b[0m\u001b[1;33m:\u001b[0m\u001b[1;33m\u001b[0m\u001b[1;33m\u001b[0m\u001b[0m\n\u001b[1;32m--> 797\u001b[1;33m       \u001b[1;32mreturn\u001b[0m \u001b[0mself\u001b[0m\u001b[1;33m.\u001b[0m\u001b[0m_next_internal\u001b[0m\u001b[1;33m(\u001b[0m\u001b[1;33m)\u001b[0m\u001b[1;33m\u001b[0m\u001b[1;33m\u001b[0m\u001b[0m\n\u001b[0m\u001b[0;32m    798\u001b[0m     \u001b[1;32mexcept\u001b[0m \u001b[0merrors\u001b[0m\u001b[1;33m.\u001b[0m\u001b[0mOutOfRangeError\u001b[0m\u001b[1;33m:\u001b[0m\u001b[1;33m\u001b[0m\u001b[1;33m\u001b[0m\u001b[0m\n\u001b[0;32m    799\u001b[0m       \u001b[1;32mraise\u001b[0m \u001b[0mStopIteration\u001b[0m\u001b[1;33m\u001b[0m\u001b[1;33m\u001b[0m\u001b[0m\n",
      "\u001b[1;32mc:\\Users\\debonair\\anaconda3\\lib\\site-packages\\tensorflow\\python\\data\\ops\\iterator_ops.py\u001b[0m in \u001b[0;36m_next_internal\u001b[1;34m(self)\u001b[0m\n\u001b[0;32m    778\u001b[0m     \u001b[1;31m# to communicate that there is no more data to iterate over.\u001b[0m\u001b[1;33m\u001b[0m\u001b[1;33m\u001b[0m\u001b[0m\n\u001b[0;32m    779\u001b[0m     \u001b[1;32mwith\u001b[0m \u001b[0mcontext\u001b[0m\u001b[1;33m.\u001b[0m\u001b[0mexecution_mode\u001b[0m\u001b[1;33m(\u001b[0m\u001b[0mcontext\u001b[0m\u001b[1;33m.\u001b[0m\u001b[0mSYNC\u001b[0m\u001b[1;33m)\u001b[0m\u001b[1;33m:\u001b[0m\u001b[1;33m\u001b[0m\u001b[1;33m\u001b[0m\u001b[0m\n\u001b[1;32m--> 780\u001b[1;33m       ret = gen_dataset_ops.iterator_get_next(\n\u001b[0m\u001b[0;32m    781\u001b[0m           \u001b[0mself\u001b[0m\u001b[1;33m.\u001b[0m\u001b[0m_iterator_resource\u001b[0m\u001b[1;33m,\u001b[0m\u001b[1;33m\u001b[0m\u001b[1;33m\u001b[0m\u001b[0m\n\u001b[0;32m    782\u001b[0m           \u001b[0moutput_types\u001b[0m\u001b[1;33m=\u001b[0m\u001b[0mself\u001b[0m\u001b[1;33m.\u001b[0m\u001b[0m_flat_output_types\u001b[0m\u001b[1;33m,\u001b[0m\u001b[1;33m\u001b[0m\u001b[1;33m\u001b[0m\u001b[0m\n",
      "\u001b[1;32mc:\\Users\\debonair\\anaconda3\\lib\\site-packages\\tensorflow\\python\\ops\\gen_dataset_ops.py\u001b[0m in \u001b[0;36miterator_get_next\u001b[1;34m(iterator, output_types, output_shapes, name)\u001b[0m\n\u001b[0;32m   3036\u001b[0m   \u001b[1;32mif\u001b[0m \u001b[0mtld\u001b[0m\u001b[1;33m.\u001b[0m\u001b[0mis_eager\u001b[0m\u001b[1;33m:\u001b[0m\u001b[1;33m\u001b[0m\u001b[1;33m\u001b[0m\u001b[0m\n\u001b[0;32m   3037\u001b[0m     \u001b[1;32mtry\u001b[0m\u001b[1;33m:\u001b[0m\u001b[1;33m\u001b[0m\u001b[1;33m\u001b[0m\u001b[0m\n\u001b[1;32m-> 3038\u001b[1;33m       _result = pywrap_tfe.TFE_Py_FastPathExecute(\n\u001b[0m\u001b[0;32m   3039\u001b[0m         \u001b[0m_ctx\u001b[0m\u001b[1;33m,\u001b[0m \u001b[1;34m\"IteratorGetNext\"\u001b[0m\u001b[1;33m,\u001b[0m \u001b[0mname\u001b[0m\u001b[1;33m,\u001b[0m \u001b[0miterator\u001b[0m\u001b[1;33m,\u001b[0m \u001b[1;34m\"output_types\"\u001b[0m\u001b[1;33m,\u001b[0m \u001b[0moutput_types\u001b[0m\u001b[1;33m,\u001b[0m\u001b[1;33m\u001b[0m\u001b[1;33m\u001b[0m\u001b[0m\n\u001b[0;32m   3040\u001b[0m         \"output_shapes\", output_shapes)\n",
      "\u001b[1;31mRuntimeError\u001b[0m: pybind11::error_already_set: MISMATCH of original and normalized active exception types: ORIGINAL _NotOkStatusException REPLACED BY KeyboardInterrupt: <EMPTY MESSAGE>\n\nAt:\n  c:\\Users\\debonair\\anaconda3\\lib\\site-packages\\tensorflow\\python\\eager\\core.py(36): __init__\n  c:\\Users\\debonair\\anaconda3\\lib\\site-packages\\tensorflow\\python\\ops\\gen_dataset_ops.py(3038): iterator_get_next\n  c:\\Users\\debonair\\anaconda3\\lib\\site-packages\\tensorflow\\python\\data\\ops\\iterator_ops.py(780): _next_internal\n  c:\\Users\\debonair\\anaconda3\\lib\\site-packages\\tensorflow\\python\\data\\ops\\iterator_ops.py(797): __next__\n  <magic-timeit>(1): inner\n  c:\\Users\\debonair\\anaconda3\\lib\\site-packages\\IPython\\core\\magics\\execution.py(169): timeit\n  c:\\Users\\debonair\\anaconda3\\lib\\timeit.py(205): repeat\n  c:\\Users\\debonair\\anaconda3\\lib\\site-packages\\IPython\\core\\magics\\execution.py(1184): timeit\n  c:\\Users\\debonair\\anaconda3\\lib\\site-packages\\IPython\\core\\magic.py(187): <lambda>\n  c:\\Users\\debonair\\anaconda3\\lib\\site-packages\\decorator.py(232): fun\n  c:\\Users\\debonair\\anaconda3\\lib\\site-packages\\IPython\\core\\interactiveshell.py(2419): run_cell_magic\n  C:\\Users\\debonair\\AppData\\Local\\Temp\\ipykernel_32248\\99719596.py(1): <module>\n  c:\\Users\\debonair\\anaconda3\\lib\\site-packages\\IPython\\core\\interactiveshell.py(3457): run_code\n  c:\\Users\\debonair\\anaconda3\\lib\\site-packages\\IPython\\core\\interactiveshell.py(3377): run_ast_nodes\n  c:\\Users\\debonair\\anaconda3\\lib\\site-packages\\IPython\\core\\interactiveshell.py(3185): run_cell_async\n  c:\\Users\\debonair\\anaconda3\\lib\\site-packages\\IPython\\core\\async_helpers.py(78): _pseudo_sync_runner\n  c:\\Users\\debonair\\anaconda3\\lib\\site-packages\\IPython\\core\\interactiveshell.py(2960): _run_cell\n  c:\\Users\\debonair\\anaconda3\\lib\\site-packages\\IPython\\core\\interactiveshell.py(2914): run_cell\n  c:\\Users\\debonair\\anaconda3\\lib\\site-packages\\ipykernel\\zmqshell.py(528): run_cell\n  c:\\Users\\debonair\\anaconda3\\lib\\site-packages\\ipykernel\\ipkernel.py(390): do_execute\n  c:\\Users\\debonair\\anaconda3\\lib\\site-packages\\ipykernel\\kernelbase.py(730): execute_request\n  c:\\Users\\debonair\\anaconda3\\lib\\site-packages\\ipykernel\\kernelbase.py(406): dispatch_shell\n  c:\\Users\\debonair\\anaconda3\\lib\\site-packages\\ipykernel\\kernelbase.py(499): process_one\n  c:\\Users\\debonair\\anaconda3\\lib\\site-packages\\ipykernel\\kernelbase.py(510): dispatch_queue\n  c:\\Users\\debonair\\anaconda3\\lib\\asyncio\\events.py(80): _run\n  c:\\Users\\debonair\\anaconda3\\lib\\asyncio\\base_events.py(1905): _run_once\n  c:\\Users\\debonair\\anaconda3\\lib\\asyncio\\base_events.py(601): run_forever\n  c:\\Users\\debonair\\anaconda3\\lib\\site-packages\\tornado\\platform\\asyncio.py(199): start\n  c:\\Users\\debonair\\anaconda3\\lib\\site-packages\\ipykernel\\kernelapp.py(712): start\n  c:\\Users\\debonair\\anaconda3\\lib\\site-packages\\traitlets\\config\\application.py(846): launch_instance\n  c:\\Users\\debonair\\anaconda3\\lib\\site-packages\\ipykernel_launcher.py(17): <module>\n  c:\\Users\\debonair\\anaconda3\\lib\\runpy.py(87): _run_code\n  c:\\Users\\debonair\\anaconda3\\lib\\runpy.py(197): _run_module_as_main\n"
     ]
    }
   ],
   "source": [
    "%%timeit\n",
    "for element in dev_dataset.take(1):\n",
    "    continue\n",
    "\n",
    "print(element)"
   ]
  },
  {
   "cell_type": "code",
   "execution_count": 18,
   "metadata": {},
   "outputs": [],
   "source": [
    "def _bytes_feature(value):\n",
    "    \"\"\"Returns a bytes_list from a string / byte.\"\"\"\n",
    "    if isinstance(value, type(tf.constant(0))):\n",
    "        value = value.numpy() \n",
    "    return tf.train.Feature(bytes_list=tf.train.BytesList(value=[value]))\n",
    "\n",
    "\n",
    "def _float_feature(value):\n",
    "    \"\"\"Returns a float_list from a float / double.\"\"\"\n",
    "    return tf.train.Feature(float_list=tf.train.FloatList(value=[value]))\n",
    "\n",
    "\n",
    "def _int64_feature(value):\n",
    "    return tf.train.Feature(int16_list=tf.train.Int16List(value=[value]))\n",
    "\n",
    "\n",
    "def serialize_example(x_list, y_list):\n",
    "    \"\"\"\n",
    "    Creates a tf.train.Example message ready to be written to a file.\n",
    "    \"\"\"\n",
    "    feature = {\n",
    "        'spectrogram': tf.train.Feature(float_list=tf.train.FloatList(value=[x_list])),\n",
    "        'transcription': tf.train.Feature(int16_list=tf.train.Int16List(value=[y_list])),\n",
    "    }\n",
    "    example_proto = tf.train.Example(features=tf.train.Features(feature=feature))\n",
    "    return example_proto.SerializeToString()"
   ]
  },
  {
   "cell_type": "code",
   "execution_count": 19,
   "metadata": {},
   "outputs": [],
   "source": [
    "#Use the tf.data.Dataset.map method to apply a function to each element in the dataset.\n",
    "def tf_serialize_example(feature, target):\n",
    "    tf_string = tf.py_function(\n",
    "        serialize_example, #Function\n",
    "        (feature, target),  #Pass these args to the above function.\n",
    "        tf.string #The return type is tf.string\n",
    "    )\n",
    "    return tf.reshape(tf_string, ()) #Result is a scalar\n",
    "\n",
    "def write_tfrecord(dataset, file_path):\n",
    "    \"\"\"\n",
    "    Writes the dataset to a tfrecord file.\n",
    "    \"\"\"\n",
    "    with tf.io.TFRecordWriter(file_path) as writer:\n",
    "        for x, y in dataset:\n",
    "            # x = np.asarray(x, dtype=np.float32)\n",
    "            # y = np.asarray(y, dtype=np.int64)\n",
    "            serialized = serialize_example(x, y)\n",
    "            writer.write(serialized)\n",
    "\n",
    "\n",
    "#Apply the above function to each element in the dataset.\n",
    "serialized_features_dataset = dev_dataset.map(tf_serialize_example)\n"
   ]
  },
  {
   "cell_type": "code",
   "execution_count": 21,
   "metadata": {},
   "outputs": [],
   "source": [
    "#Write file to a TFRecord file.\n",
    "filename = 'dev.tfrecord'\n",
    "\n",
    "with tf.io.TFRecordWriter(filename) as file_writer:\n",
    "    for feature, target in dev_dataset:\n",
    "        feature = bytes(feature.numpy())\n",
    "        target = bytes(target.numpy())\n",
    "        record_bytes = tf.train.Example(features = tf.train.Features(feature = {\n",
    "            'spectrogram': tf.train.Feature(bytes_list = tf.train.BytesList(value=[feature])),\n",
    "            'transcription': tf.train.Feature(bytes_list =tf.train.BytesList(value=[target])),\n",
    "        })).SerializeToString()\n",
    "        file_writer.write(record_bytes)"
   ]
  },
  {
   "cell_type": "code",
   "execution_count": 22,
   "metadata": {},
   "outputs": [],
   "source": [
    "#Write file to a TFRecord file.\n",
    "filename = 'test.tfrecord'\n",
    "\n",
    "with tf.io.TFRecordWriter(filename) as file_writer:\n",
    "    for feature, target in test_dataset:\n",
    "        feature = bytes(feature.numpy())\n",
    "        target = bytes(target.numpy())\n",
    "        record_bytes = tf.train.Example(features = tf.train.Features(feature = {\n",
    "            'spectrogram': tf.train.Feature(bytes_list = tf.train.BytesList(value=[feature])),\n",
    "            'transcription': tf.train.Feature(bytes_list =tf.train.BytesList(value=[target])),\n",
    "        })).SerializeToString()\n",
    "        file_writer.write(record_bytes)"
   ]
  },
  {
   "cell_type": "code",
   "execution_count": 23,
   "metadata": {},
   "outputs": [
    {
     "ename": "KeyboardInterrupt",
     "evalue": "",
     "output_type": "error",
     "traceback": [
      "\u001b[1;31m---------------------------------------------------------------------------\u001b[0m",
      "\u001b[1;31mKeyboardInterrupt\u001b[0m                         Traceback (most recent call last)",
      "\u001b[1;32m~\\AppData\\Local\\Temp\\ipykernel_32248\\478563676.py\u001b[0m in \u001b[0;36m<module>\u001b[1;34m\u001b[0m\n\u001b[0;32m      3\u001b[0m \u001b[1;33m\u001b[0m\u001b[0m\n\u001b[0;32m      4\u001b[0m \u001b[1;32mwith\u001b[0m \u001b[0mtf\u001b[0m\u001b[1;33m.\u001b[0m\u001b[0mio\u001b[0m\u001b[1;33m.\u001b[0m\u001b[0mTFRecordWriter\u001b[0m\u001b[1;33m(\u001b[0m\u001b[0mfilename\u001b[0m\u001b[1;33m)\u001b[0m \u001b[1;32mas\u001b[0m \u001b[0mfile_writer\u001b[0m\u001b[1;33m:\u001b[0m\u001b[1;33m\u001b[0m\u001b[1;33m\u001b[0m\u001b[0m\n\u001b[1;32m----> 5\u001b[1;33m     \u001b[1;32mfor\u001b[0m \u001b[0mfeature\u001b[0m\u001b[1;33m,\u001b[0m \u001b[0mtarget\u001b[0m \u001b[1;32min\u001b[0m \u001b[0mtrain_dataset\u001b[0m\u001b[1;33m:\u001b[0m\u001b[1;33m\u001b[0m\u001b[1;33m\u001b[0m\u001b[0m\n\u001b[0m\u001b[0;32m      6\u001b[0m         \u001b[0mfeature\u001b[0m \u001b[1;33m=\u001b[0m \u001b[0mbytes\u001b[0m\u001b[1;33m(\u001b[0m\u001b[0mfeature\u001b[0m\u001b[1;33m.\u001b[0m\u001b[0mnumpy\u001b[0m\u001b[1;33m(\u001b[0m\u001b[1;33m)\u001b[0m\u001b[1;33m)\u001b[0m\u001b[1;33m\u001b[0m\u001b[1;33m\u001b[0m\u001b[0m\n\u001b[0;32m      7\u001b[0m         \u001b[0mtarget\u001b[0m \u001b[1;33m=\u001b[0m \u001b[0mbytes\u001b[0m\u001b[1;33m(\u001b[0m\u001b[0mtarget\u001b[0m\u001b[1;33m.\u001b[0m\u001b[0mnumpy\u001b[0m\u001b[1;33m(\u001b[0m\u001b[1;33m)\u001b[0m\u001b[1;33m)\u001b[0m\u001b[1;33m\u001b[0m\u001b[1;33m\u001b[0m\u001b[0m\n",
      "\u001b[1;32mc:\\Users\\debonair\\anaconda3\\lib\\site-packages\\tensorflow\\python\\data\\ops\\iterator_ops.py\u001b[0m in \u001b[0;36m__next__\u001b[1;34m(self)\u001b[0m\n\u001b[0;32m    795\u001b[0m   \u001b[1;32mdef\u001b[0m \u001b[0m__next__\u001b[0m\u001b[1;33m(\u001b[0m\u001b[0mself\u001b[0m\u001b[1;33m)\u001b[0m\u001b[1;33m:\u001b[0m\u001b[1;33m\u001b[0m\u001b[1;33m\u001b[0m\u001b[0m\n\u001b[0;32m    796\u001b[0m     \u001b[1;32mtry\u001b[0m\u001b[1;33m:\u001b[0m\u001b[1;33m\u001b[0m\u001b[1;33m\u001b[0m\u001b[0m\n\u001b[1;32m--> 797\u001b[1;33m       \u001b[1;32mreturn\u001b[0m \u001b[0mself\u001b[0m\u001b[1;33m.\u001b[0m\u001b[0m_next_internal\u001b[0m\u001b[1;33m(\u001b[0m\u001b[1;33m)\u001b[0m\u001b[1;33m\u001b[0m\u001b[1;33m\u001b[0m\u001b[0m\n\u001b[0m\u001b[0;32m    798\u001b[0m     \u001b[1;32mexcept\u001b[0m \u001b[0merrors\u001b[0m\u001b[1;33m.\u001b[0m\u001b[0mOutOfRangeError\u001b[0m\u001b[1;33m:\u001b[0m\u001b[1;33m\u001b[0m\u001b[1;33m\u001b[0m\u001b[0m\n\u001b[0;32m    799\u001b[0m       \u001b[1;32mraise\u001b[0m \u001b[0mStopIteration\u001b[0m\u001b[1;33m\u001b[0m\u001b[1;33m\u001b[0m\u001b[0m\n",
      "\u001b[1;32mc:\\Users\\debonair\\anaconda3\\lib\\site-packages\\tensorflow\\python\\data\\ops\\iterator_ops.py\u001b[0m in \u001b[0;36m_next_internal\u001b[1;34m(self)\u001b[0m\n\u001b[0;32m    778\u001b[0m     \u001b[1;31m# to communicate that there is no more data to iterate over.\u001b[0m\u001b[1;33m\u001b[0m\u001b[1;33m\u001b[0m\u001b[0m\n\u001b[0;32m    779\u001b[0m     \u001b[1;32mwith\u001b[0m \u001b[0mcontext\u001b[0m\u001b[1;33m.\u001b[0m\u001b[0mexecution_mode\u001b[0m\u001b[1;33m(\u001b[0m\u001b[0mcontext\u001b[0m\u001b[1;33m.\u001b[0m\u001b[0mSYNC\u001b[0m\u001b[1;33m)\u001b[0m\u001b[1;33m:\u001b[0m\u001b[1;33m\u001b[0m\u001b[1;33m\u001b[0m\u001b[0m\n\u001b[1;32m--> 780\u001b[1;33m       ret = gen_dataset_ops.iterator_get_next(\n\u001b[0m\u001b[0;32m    781\u001b[0m           \u001b[0mself\u001b[0m\u001b[1;33m.\u001b[0m\u001b[0m_iterator_resource\u001b[0m\u001b[1;33m,\u001b[0m\u001b[1;33m\u001b[0m\u001b[1;33m\u001b[0m\u001b[0m\n\u001b[0;32m    782\u001b[0m           \u001b[0moutput_types\u001b[0m\u001b[1;33m=\u001b[0m\u001b[0mself\u001b[0m\u001b[1;33m.\u001b[0m\u001b[0m_flat_output_types\u001b[0m\u001b[1;33m,\u001b[0m\u001b[1;33m\u001b[0m\u001b[1;33m\u001b[0m\u001b[0m\n",
      "\u001b[1;32mc:\\Users\\debonair\\anaconda3\\lib\\site-packages\\tensorflow\\python\\ops\\gen_dataset_ops.py\u001b[0m in \u001b[0;36miterator_get_next\u001b[1;34m(iterator, output_types, output_shapes, name)\u001b[0m\n\u001b[0;32m   3036\u001b[0m   \u001b[1;32mif\u001b[0m \u001b[0mtld\u001b[0m\u001b[1;33m.\u001b[0m\u001b[0mis_eager\u001b[0m\u001b[1;33m:\u001b[0m\u001b[1;33m\u001b[0m\u001b[1;33m\u001b[0m\u001b[0m\n\u001b[0;32m   3037\u001b[0m     \u001b[1;32mtry\u001b[0m\u001b[1;33m:\u001b[0m\u001b[1;33m\u001b[0m\u001b[1;33m\u001b[0m\u001b[0m\n\u001b[1;32m-> 3038\u001b[1;33m       _result = pywrap_tfe.TFE_Py_FastPathExecute(\n\u001b[0m\u001b[0;32m   3039\u001b[0m         \u001b[0m_ctx\u001b[0m\u001b[1;33m,\u001b[0m \u001b[1;34m\"IteratorGetNext\"\u001b[0m\u001b[1;33m,\u001b[0m \u001b[0mname\u001b[0m\u001b[1;33m,\u001b[0m \u001b[0miterator\u001b[0m\u001b[1;33m,\u001b[0m \u001b[1;34m\"output_types\"\u001b[0m\u001b[1;33m,\u001b[0m \u001b[0moutput_types\u001b[0m\u001b[1;33m,\u001b[0m\u001b[1;33m\u001b[0m\u001b[1;33m\u001b[0m\u001b[0m\n\u001b[0;32m   3040\u001b[0m         \"output_shapes\", output_shapes)\n",
      "\u001b[1;31mKeyboardInterrupt\u001b[0m: "
     ]
    }
   ],
   "source": [
    "#Write file to a TFRecord file.\n",
    "filename = 'train.tfrecord'\n",
    "\n",
    "with tf.io.TFRecordWriter(filename) as file_writer:\n",
    "    for feature, target in train_dataset:\n",
    "        feature = bytes(feature.numpy())\n",
    "        target = bytes(target.numpy())\n",
    "        record_bytes = tf.train.Example(features = tf.train.Features(feature = {\n",
    "            'spectrogram': tf.train.Feature(bytes_list = tf.train.BytesList(value=[feature])),\n",
    "            'transcription': tf.train.Feature(bytes_list =tf.train.BytesList(value=[target])),\n",
    "        })).SerializeToString()\n",
    "        file_writer.write(record_bytes)"
   ]
  },
  {
   "cell_type": "code",
   "execution_count": 25,
   "metadata": {},
   "outputs": [
    {
     "ename": "AttributeError",
     "evalue": "'bytes' object has no attribute 'numpy'",
     "output_type": "error",
     "traceback": [
      "\u001b[1;31m---------------------------------------------------------------------------\u001b[0m",
      "\u001b[1;31mAttributeError\u001b[0m                            Traceback (most recent call last)",
      "\u001b[1;32m~\\AppData\\Local\\Temp\\ipykernel_32248\\431723379.py\u001b[0m in \u001b[0;36m<module>\u001b[1;34m\u001b[0m\n\u001b[1;32m----> 1\u001b[1;33m \u001b[0mfeature\u001b[0m\u001b[1;33m.\u001b[0m\u001b[0mnumpy\u001b[0m\u001b[1;33m(\u001b[0m\u001b[1;33m)\u001b[0m\u001b[1;33m\u001b[0m\u001b[1;33m\u001b[0m\u001b[0m\n\u001b[0m",
      "\u001b[1;31mAttributeError\u001b[0m: 'bytes' object has no attribute 'numpy'"
     ]
    }
   ],
   "source": [
    "feature."
   ]
  },
  {
   "cell_type": "code",
   "execution_count": null,
   "metadata": {},
   "outputs": [],
   "source": []
  }
 ],
 "metadata": {
  "kernelspec": {
   "display_name": "base",
   "language": "python",
   "name": "python3"
  },
  "language_info": {
   "codemirror_mode": {
    "name": "ipython",
    "version": 3
   },
   "file_extension": ".py",
   "mimetype": "text/x-python",
   "name": "python",
   "nbconvert_exporter": "python",
   "pygments_lexer": "ipython3",
   "version": "3.9.13"
  },
  "orig_nbformat": 4
 },
 "nbformat": 4,
 "nbformat_minor": 2
}
